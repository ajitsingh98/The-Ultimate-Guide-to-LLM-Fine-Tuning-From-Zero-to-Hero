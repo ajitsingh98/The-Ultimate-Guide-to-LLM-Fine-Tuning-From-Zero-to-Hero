{
  "nbformat": 4,
  "nbformat_minor": 0,
  "metadata": {
    "colab": {
      "provenance": [],
      "authorship_tag": "ABX9TyNGtqpBo18qbXImdklJ+Hgd",
      "include_colab_link": true
    },
    "kernelspec": {
      "name": "python3",
      "display_name": "Python 3"
    },
    "language_info": {
      "name": "python"
    }
  },
  "cells": [
    {
      "cell_type": "markdown",
      "metadata": {
        "id": "view-in-github",
        "colab_type": "text"
      },
      "source": [
        "<a href=\"https://colab.research.google.com/github/ajitsingh98/The-Ultimate-Guide-to-LLM-Fine-Tuning-From-Zero-to-Hero/blob/main/PEFT_with_LoRA.ipynb\" target=\"_parent\"><img src=\"https://colab.research.google.com/assets/colab-badge.svg\" alt=\"Open In Colab\"/></a>"
      ]
    },
    {
      "cell_type": "markdown",
      "source": [
        "# Fine-Tuning With LoRA\n"
      ],
      "metadata": {
        "id": "3r4Y95lTW7kJ"
      }
    },
    {
      "cell_type": "code",
      "execution_count": null,
      "metadata": {
        "id": "DtAahXrIOYYy"
      },
      "outputs": [],
      "source": []
    }
  ]
}